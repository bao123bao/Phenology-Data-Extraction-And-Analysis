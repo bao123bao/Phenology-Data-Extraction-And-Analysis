{
  "nbformat": 4,
  "nbformat_minor": 0,
  "metadata": {
    "colab": {
      "provenance": [],
      "collapsed_sections": []
    },
    "kernelspec": {
      "name": "python3",
      "display_name": "Python 3"
    },
    "language_info": {
      "name": "python"
    }
  },
  "cells": [
    {
      "cell_type": "code",
      "source": [
        "import ee\n",
        "ee.Authenticate()\n",
        "ee.Initialize()"
      ],
      "metadata": {
        "colab": {
          "base_uri": "https://localhost:8080/"
        },
        "id": "BnQsHLXcrwFi",
        "outputId": "c544d993-5c3d-42e6-f5c0-ba017a2b6b80"
      },
      "execution_count": null,
      "outputs": [
        {
          "output_type": "stream",
          "name": "stdout",
          "text": [
            "To authorize access needed by Earth Engine, open the following URL in a web browser and follow the instructions. If the web browser does not start automatically, please manually browse the URL below.\n",
            "\n",
            "    https://code.earthengine.google.com/client-auth?scopes=https%3A//www.googleapis.com/auth/earthengine%20https%3A//www.googleapis.com/auth/devstorage.full_control&request_id=GteCHyOhXXt3dmyixHNVxZS-p2RVfzsNChW164KL65c&tc=t44bWpTCgdULb50IJHJTPB_8GmbzJSNloqt8Htx0I_I&cc=lWkDdsDq6dHwtQtWv0UZ006k4YGETXIqhp4TWWw6f2Q\n",
            "\n",
            "The authorization workflow will generate a code, which you should paste in the box below.\n",
            "Enter verification code: 4/1ARtbsJr40hdojgwESrUDhtx43JWsqZ8oaPQFPJxY1U-IU6yt1Aur2taNqUs\n",
            "\n",
            "Successfully saved authorization token.\n"
          ]
        }
      ]
    },
    {
      "cell_type": "code",
      "execution_count": null,
      "metadata": {
        "id": "NF5OwoMxrpU8"
      },
      "outputs": [],
      "source": [
        "# export meterological data from ERA5\n",
        "import pprint \n",
        "from IPython.display import Image\n",
        "meter=ee.ImageCollection(\"ECMWF/ERA5/DAILY\")\n",
        "border=ee.FeatureCollection('users/rmohon835/NW_border')\n",
        "border=border.geometry()\n",
        "#pprint.pprint(border.getInfo())\n",
        "\n",
        "#pprint.pprint(type(border))\n",
        "\n",
        "pheno2005=meter.filterBounds(border)\n",
        "\n",
        "precp1=pheno2005.filterDate('2005','2006').select('maximum_2m_air_temperature')\n",
        "# url=precp1.getThumbUrl({\n",
        "#     'min':0,'max':0.02,\n",
        "#     'dimensions': 500, 'region': border,\n",
        "#     'palette': ['blue', 'yellow', 'orange', 'red']\n",
        "# })\n",
        "# Image(url=url)\n",
        "print(precp1.getInfo())\n",
        "\n",
        "def imageCollectionToDrive(collection,folder,region):\n",
        "    imageList = collection.toList(collection.size())\n",
        "    for n in range(0,collection.size().getInfo()):\n",
        "        image = ee.Image(imageList.get(n)).clip(border)\n",
        "        name = image.get(\"system:index\").getInfo()\n",
        "        task = ee.batch.Export.image.toDrive(image=image,description=name,folder=folder,region=region,maxPixels=int(1e13))\n",
        "        task.start()\n",
        "        print(\"exporting {} to folder '{}' in Google Drive\".format(name, folder))\n",
        "\n",
        "imageCollectionToDrive(precp1,'maxAirTemp2005',border)"
      ]
    },
    {
      "cell_type": "code",
      "source": [
        "# export year 2005 pheno data \n",
        "border=ee.FeatureCollection('users/rmohon835/NW_border').geometry()\n",
        "pheno=ee.ImageCollection(\"MODIS/006/MCD12Q2\")\n",
        "cornArea=ee.Image('projects/ee-rmohon835/assets/cornArea/NDVImax2005')\n",
        "\n",
        "pheno2005=pheno.filterBounds(border).filterDate('2005').first().clip(border);\n",
        "\n",
        "ls=['Greenup_1','MidGreenup_1','Peak_1','Maturity_1','Senescence_1','MidGreendown_1','Dormancy_1']\n",
        "\n",
        "for i in range(len(ls)):\n",
        "  stageName=ls[i]\n",
        "  image=pheno2005.select(stageName).mask(cornArea).clip(border)\n",
        "  task=ee.batch.Export.image.toDrive(\n",
        "      image=image,\n",
        "      description='2005'+stageName,\n",
        "      folder='2005newPheno',\n",
        "      region=border,\n",
        "      crs='EPSG:4326',\n",
        "      scale=1000,\n",
        "      maxPixels=int(1e13))\n",
        "  task.start()\n",
        "  print(stageName)\n",
        "\n"
      ],
      "metadata": {
        "colab": {
          "base_uri": "https://localhost:8080/"
        },
        "id": "_0KkI7dvrufD",
        "outputId": "4e3a9063-0e28-4283-a2e1-36958e9715f0"
      },
      "execution_count": null,
      "outputs": [
        {
          "output_type": "stream",
          "name": "stdout",
          "text": [
            "Greenup_1\n",
            "MidGreenup_1\n",
            "Peak_1\n",
            "Maturity_1\n",
            "Senescence_1\n",
            "MidGreendown_1\n",
            "Dormancy_1\n"
          ]
        }
      ]
    },
    {
      "cell_type": "code",
      "source": [
        "# export all year's phenology data\n",
        "border=ee.FeatureCollection('users/rmohon835/NW_border').geometry()\n",
        "pheno=ee.ImageCollection(\"MODIS/006/MCD12Q2\")\n",
        "cornArea=ee.Image('projects/ee-rmohon835/assets/cornArea/NDVImax2005')\n",
        "\n",
        "ls=['Greenup_1','MidGreenup_1','Peak_1','Maturity_1','Senescence_1','MidGreendown_1','Dormancy_1']\n",
        "\n",
        "for year in range(2004,2020):\n",
        "  cornArea=ee.Image('projects/ee-rmohon835/assets/cornArea/NDVImax'+str(year))\n",
        "  phenoData=pheno.filterBounds(border).filterDate(str(year)).first().clip(border)\n",
        "  for i in range(len(ls)):\n",
        "    stageName=ls[i]\n",
        "    outName=str(year)+stageName\n",
        "    image=phenoData.select(stageName).mask(cornArea).clip(border)\n",
        "    task=ee.batch.Export.image.toDrive(\n",
        "      image=image,\n",
        "      description=outName,\n",
        "      folder='PhenoAllYears',\n",
        "      region=border,\n",
        "      crs='EPSG:4326',\n",
        "      scale=1000,\n",
        "      maxPixels=int(1e13))\n",
        "    task.start()\n",
        "    print(outName)"
      ],
      "metadata": {
        "colab": {
          "base_uri": "https://localhost:8080/"
        },
        "id": "VvtRLCpA6mD9",
        "outputId": "94469be2-63e7-41df-f20e-f5968d5aca3d"
      },
      "execution_count": null,
      "outputs": [
        {
          "output_type": "stream",
          "name": "stdout",
          "text": [
            "2017Dormancy_1\n",
            "2018Greenup_1\n",
            "2018MidGreenup_1\n",
            "2018Peak_1\n",
            "2018Maturity_1\n",
            "2018Senescence_1\n",
            "2018MidGreendown_1\n",
            "2018Dormancy_1\n",
            "2019Greenup_1\n",
            "2019MidGreenup_1\n",
            "2019Peak_1\n",
            "2019Maturity_1\n",
            "2019Senescence_1\n",
            "2019MidGreendown_1\n",
            "2019Dormancy_1\n"
          ]
        }
      ]
    },
    {
      "cell_type": "code",
      "source": [],
      "metadata": {
        "id": "K4O0p7bf6VuZ"
      },
      "execution_count": null,
      "outputs": []
    },
    {
      "cell_type": "code",
      "source": [
        "border=ee.FeatureCollection('users/rmohon835/NW_border').geometry()\n",
        "pheno=ee.ImageCollection(\"MODIS/006/MCD12Q2\")\n",
        "cornArea=ee.Image('projects/ee-rmohon835/assets/cornArea/NDVImax2005')\n",
        "\n",
        "\n",
        "# export all year's phenology data\n",
        "border=ee.FeatureCollection('users/rmohon835/NW_border').geometry()\n",
        "pheno=ee.ImageCollection(\"MODIS/006/MCD12Q2\")\n",
        "cornArea=ee.Image('projects/ee-rmohon835/assets/cornArea/NDVImax2005')\n",
        "\n",
        "ls=['Greenup_1','MidGreenup_1','Peak_1','Maturity_1','Senescence_1','MidGreendown_1','Dormancy_1']\n",
        "\n",
        "for year in range(2004,2020):\n",
        "  cornArea=ee.Image('projects/ee-rmohon835/assets/cornArea/NDVImax'+str(year))\n",
        "  phenoData=pheno.filterBounds(border).filterDate(str(year)).first().clip(border)\n",
        "  for i in range(len(ls)):\n",
        "    stageName=ls[i]\n",
        "    outName=str(year)+stageName\n",
        "    image=phenoData.select(stageName).mask(cornArea).clip(border)\n",
        "    task=ee.batch.Export.image.toDrive(\n",
        "      image=image,\n",
        "      description=outName,\n",
        "      folder='PhenoAllYears',\n",
        "      region=border,\n",
        "      crs='EPSG:4326',\n",
        "      scale=1000,\n",
        "      maxPixels=int(1e13))\n",
        "    task.start()\n",
        "    print(outName)"
      ],
      "metadata": {
        "id": "if0ZRrW_6V1e"
      },
      "execution_count": null,
      "outputs": []
    },
    {
      "cell_type": "code",
      "source": [
        "# Export Two-Stage-Blended Pheno data on 0907\n",
        "from IPython.display import Image\n",
        "import pprint\n",
        "# a2005 = ee.Image(\"projects/ee-rmohon835/assets/cornArea/NDVImax2005\")\n",
        "border = ee.FeatureCollection(\"projects/ee-rmohon835/assets/cornArea/NW_border\").geometry();\n",
        "\n",
        "# Reference images for sanp and intersect (namely, NDVImax2005-2019)\n",
        "refImageYears=[]\n",
        "for i in range(2005,2020):\n",
        "  img = ee.Image(\"projects/ee-rmohon835/assets/cornArea/NDVImax\"+str(i))\n",
        "  refImageYears.append(img)\n",
        "# print(len(refImageYears))\n",
        "\n",
        "# MODIS pheno data\n",
        "ModPheno=ee.ImageCollection(\"MODIS/006/MCD12Q2\")\n",
        "\n",
        "# Date function\n",
        "def DateToUnix(date):\n",
        "  return ee.Number(ee.Date(date).millis()).divide(1000*3600*24).getInfo();\n",
        "\n",
        "# print(DateToUnix('2005-01-01'))\n",
        "stages=['Greenup','MidGreenup','Peak','Maturity',\n",
        "  'Senescence','MidGreendown','Dormancy']\n",
        "# thisStage=stages[i] \n",
        "i=0\n",
        "for year in range(2005,2020):\n",
        "\n",
        "  # #  step1: create mask for cycle 1 using gp1\n",
        "  pheno=ModPheno.filterDate(str(year),str(year+1)).filterBounds(border);\n",
        "\n",
        "  greenUp1=pheno.select('Greenup_1').first().clip(border);  #  all greenUp1 data labeled 2005\n",
        "  greenUp1In2005=greenUp1.gt(DateToUnix(str(year)+'-01-01'));     #  greenUp1 data in 2005\n",
        "  greenUp1In2005Mask=greenUp1In2005.selfMask();             #  greenUp1 mask in 2005\n",
        "  \n",
        "  dorm1=pheno.select('Dormancy_1').first().clip(border);    #  all dorm1 data labeled 2005\n",
        "  dorm1In2005=dorm1.lt(DateToUnix(str(year)+'-12-31'));           #  dorm1 data in 2005\n",
        "  dorm1In2005Mask=dorm1In2005.selfMask();                   #  dorm1 mask in 2005\n",
        "\n",
        "  c1BothIn2005Mask=greenUp1In2005Mask.And(dorm1In2005Mask); #  Both ends lie in 2005 for cycle 1\n",
        "\n",
        "\n",
        "\n",
        "  # #  step2: create mask for cycle 2 using gp2\n",
        "\n",
        "  greenUp2=pheno.select('Greenup_2').first().clip(border);  #  all greenUp2 data labeled 2005\n",
        "  greenUp2In2005=greenUp2.gt(DateToUnix(str(year)+'-01-01'));     #  greenUp2 data in 2005\n",
        "  greenUp2In2005Mask=greenUp2In2005.selfMask();             #  greenUp2 mask in 2005\n",
        "\n",
        "  dorm2=pheno.select('Dormancy_2').first().clip(border);    #  all dorm2 data labeled 2005\n",
        "  dorm2In2005=dorm2.lt(DateToUnix(str(year)+'-12-31'));           #  dorm2 data in 2005\n",
        "  dorm2In2005Mask=dorm2In2005.selfMask();                   #  dorm2 mask in 2005\n",
        "\n",
        "  notInC1Both=c1BothIn2005Mask.unmask().Not().clip(border).selfMask();\n",
        "  c2BothIn2005Mask=greenUp2In2005Mask.And(dorm2In2005Mask).And(notInC1Both); #  Both ends lie in 2005 for cycle 2\n",
        "\n",
        "  for stage in stages:\n",
        "\n",
        "    # change by selection of stage\n",
        "    stage1AsOutput=pheno.select(stage+'_1').first().clip(border);\n",
        "    Stage1BothIn2005=stage1AsOutput.updateMask(c1BothIn2005Mask); #  GreenUp of Both ends lie in 2005 for cycle 1\n",
        "\n",
        "    # change by selection of stage\n",
        "    Stage2AsOutput=pheno.select(stage+'_2').first().clip(border);  #  all greenUp2 data labeled 2005\n",
        "    Stage2BothIn2005=Stage2AsOutput.updateMask(c2BothIn2005Mask).clip(border); #  GreenUp of Both ends lie in 2005 for cycle 2\n",
        "\n",
        "    # #  step3: blend cycle 1 and 2\n",
        "    ThisYearStage=Stage1BothIn2005.blend(Stage2BothIn2005);\n",
        "    ThisYearStage=ThisYearStage.rename(['pheno']);\n",
        "\n",
        "    # #  test if time range is suitable, and cut the 1% tail \n",
        "    stats=ThisYearStage.reduceRegion(\n",
        "      reducer=ee.Reducer.percentile(percentiles=[0.5,99.5],\n",
        "        outputNames=['p05','p995']),\n",
        "      geometry=border,\n",
        "      scale=1000\n",
        "    )\n",
        "\n",
        "    pct005=ee.Number(stats.get('pheno_p05')).toInt().getInfo()\n",
        "    pct995=ee.Number(stats.get('pheno_p995')).toInt().getInfo()\n",
        "    # print(pct005)\n",
        "    # print(pct995)\n",
        "    StageThisYear=ThisYearStage.updateMask(\n",
        "      ThisYearStage.gte(pct005).And(ThisYearStage.lte(pct995))\n",
        "      );\n",
        "    StageThisYear=StageThisYear.mask(refImageYears[i]).clip(border)\n",
        "    \n",
        "    # url=StageThisYear.reproject('EPSG:4326').getThumbUrl({\n",
        "    #     'min':12700,'max':13100,\n",
        "    #     'dimensions':1000,\n",
        "    #     'region':border,\n",
        "    #     'palette':['green','red']\n",
        "    #     })\n",
        "    \n",
        "\n",
        "    task=ee.batch.Export.image.toDrive(\n",
        "      image=StageThisYear,\n",
        "      description=str(i+2005)+'_'+stage,\n",
        "      folder='pheno_colab_0907',\n",
        "      region=border,\n",
        "      crs='EPSG:4326',\n",
        "      scale=1000\n",
        "    )\n",
        "    task.start()\n",
        "    # pprint.pprint(refImageYears[i].getInfo())\n",
        "    print(str(i+2005)+'_'+stage)\n",
        "  i+=1\n",
        "\n",
        "\n",
        "# Image(url=url)"
      ],
      "metadata": {
        "id": "8TLU3JE_Ow4f"
      },
      "execution_count": null,
      "outputs": []
    },
    {
      "cell_type": "code",
      "source": [
        "# export era5 temperature and precipitation data\n",
        "from IPython.display import Image\n",
        "border = ee.FeatureCollection(\"projects/ee-rmohon835/assets/cornArea/NW_border\").geometry();\n",
        "# era5day=ee.ImageCollection(\"ECMWF/ERA5/DAILY\").filterBounds(border).filterDate('2019-07-25','2020');\n",
        "\n",
        "# imgLs=era5day.toList(era5day.size())\n",
        "# collectionSize=imgLs.size().getInfo()\n",
        "# print(era5day.size().getInfo())\n",
        "\n",
        "\n",
        "\n",
        "# GEE\n",
        "\n",
        "data = ee.ImageCollection(\"ECMWF/ERA5_LAND/HOURLY\");\n",
        "border = ee.FeatureCollection(\"users/rmohon835/NW_border\").geometry();\n",
        "\n",
        "oneDayData=data.filterDate('2005-01-01','2005-01-02').select('surface_net_solar_radiation');\n",
        "# print(oneDayData);\n",
        "\n",
        "aggregatedDay=oneDayData.sum().clip(border);\n",
        "\n",
        "# print(aggregatedDay.propertyNames());\n",
        "# print(aggregatedDay.get('system:index'));\n",
        "\n",
        "\n",
        "# for each year\n",
        "\n",
        "for year in range(2005,2020):\n",
        "  onePeriodData=data.filterDate(str(year)+'-01-01',str(year)+'-02-01').select('surface_net_solar_radiation');  \n",
        "  size=oneDayData.size().getInfo()\n",
        "  cnt=1\n",
        "  for i in range(1,365+1,8):\n",
        "    if cnt>=3:\n",
        "      break\n",
        "    oneDayData=onePeriodData.filter(ee.Filter.calendarRange(i,i+7,'day_of_year'))\n",
        "    sizeCollection=oneDayData.size().getInfo()\n",
        "    print(sizeCollection)\n",
        "    imgLs=oneDayData.toList(sizeCollection)\n",
        "    # print(oneDayData.first().get('system:index').getInfo())\n",
        "    outNSSR=oneDayData.sum().clip(border)\n",
        "    date1=oneDayData.first().get('system:index').getInfo()[:-3]\n",
        "    size2=imgLs.size().getInfo()\n",
        "    print(size2)\n",
        "    date2=ee.Image(imgLs.get(size2-1)).get('system:index').getInfo()[:-3]\n",
        "    \n",
        "    print(date1,date2)\n",
        "    cnt+=1\n",
        "    # task=ee.batch.Export.image.toDrive(\n",
        "    #   image=outNSSR,\n",
        "    #   description=date++'NSSR',\n",
        "    #   folder='NSSR_0915',\n",
        "    #   region=border,\n",
        "    #   crs='EPSG:4326',\n",
        "    #   scale=11000\n",
        "    # )\n",
        "    # task.start()\n",
        "    break \n",
        "\n",
        "  break\n",
        " "
      ],
      "metadata": {
        "id": "ThkpyHQ_oa2h",
        "colab": {
          "base_uri": "https://localhost:8080/"
        },
        "outputId": "2e9fa511-0779-4eea-e1d2-e5a7f11c9249"
      },
      "execution_count": null,
      "outputs": [
        {
          "output_type": "stream",
          "name": "stdout",
          "text": [
            "192\n",
            "192\n",
            "20050101 20050108\n"
          ]
        }
      ]
    },
    {
      "cell_type": "code",
      "source": [],
      "metadata": {
        "id": "NSWx-xwd7h4w"
      },
      "execution_count": null,
      "outputs": []
    },
    {
      "cell_type": "markdown",
      "source": [],
      "metadata": {
        "id": "49yl11Bbamon"
      }
    }
  ]
}